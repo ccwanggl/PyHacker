{
 "cells": [
  {
   "cell_type": "code",
   "id": "initial_id",
   "metadata": {
    "ExecuteTime": {
     "end_time": "2025-03-16T12:35:27.295592Z",
     "start_time": "2025-03-16T12:35:26.057330Z"
    }
   },
   "source": [
    "import pandas as pd\n",
    "print(pd.__version__)"
   ],
   "outputs": [
    {
     "name": "stdout",
     "output_type": "stream",
     "text": [
      "2.2.3\n"
     ]
    }
   ],
   "execution_count": 1
  },
  {
   "metadata": {
    "ExecuteTime": {
     "end_time": "2025-03-16T12:35:47.801640Z",
     "start_time": "2025-03-16T12:35:47.174224Z"
    }
   },
   "cell_type": "code",
   "source": "df = pd.read_excel('DataSet/team.xlsx')",
   "id": "e82d05a7c8bdd611",
   "outputs": [],
   "execution_count": 2
  },
  {
   "metadata": {
    "ExecuteTime": {
     "end_time": "2025-03-16T12:35:51.417840Z",
     "start_time": "2025-03-16T12:35:51.395634Z"
    }
   },
   "cell_type": "code",
   "source": "df",
   "id": "342ef1ea573ee25f",
   "outputs": [
    {
     "data": {
      "text/plain": [
       "        name team  Q1  Q2  Q3  Q4\n",
       "0      Liver    E  89  21  24  64\n",
       "1       Arry    C  36  37  37  57\n",
       "2        Ack    A  57  60  18  84\n",
       "3      Eorge    C  93  96  71  78\n",
       "4        Oah    D  65  49  61  86\n",
       "..       ...  ...  ..  ..  ..  ..\n",
       "95   Gabriel    C  48  59  87  74\n",
       "96   Austin7    C  21  31  30  43\n",
       "97  Lincoln4    C  98  93   1  20\n",
       "98       Eli    E  11  74  58  91\n",
       "99       Ben    E  21  43  41  74\n",
       "\n",
       "[100 rows x 6 columns]"
      ],
      "text/html": [
       "<div>\n",
       "<style scoped>\n",
       "    .dataframe tbody tr th:only-of-type {\n",
       "        vertical-align: middle;\n",
       "    }\n",
       "\n",
       "    .dataframe tbody tr th {\n",
       "        vertical-align: top;\n",
       "    }\n",
       "\n",
       "    .dataframe thead th {\n",
       "        text-align: right;\n",
       "    }\n",
       "</style>\n",
       "<table border=\"1\" class=\"dataframe\">\n",
       "  <thead>\n",
       "    <tr style=\"text-align: right;\">\n",
       "      <th></th>\n",
       "      <th>name</th>\n",
       "      <th>team</th>\n",
       "      <th>Q1</th>\n",
       "      <th>Q2</th>\n",
       "      <th>Q3</th>\n",
       "      <th>Q4</th>\n",
       "    </tr>\n",
       "  </thead>\n",
       "  <tbody>\n",
       "    <tr>\n",
       "      <th>0</th>\n",
       "      <td>Liver</td>\n",
       "      <td>E</td>\n",
       "      <td>89</td>\n",
       "      <td>21</td>\n",
       "      <td>24</td>\n",
       "      <td>64</td>\n",
       "    </tr>\n",
       "    <tr>\n",
       "      <th>1</th>\n",
       "      <td>Arry</td>\n",
       "      <td>C</td>\n",
       "      <td>36</td>\n",
       "      <td>37</td>\n",
       "      <td>37</td>\n",
       "      <td>57</td>\n",
       "    </tr>\n",
       "    <tr>\n",
       "      <th>2</th>\n",
       "      <td>Ack</td>\n",
       "      <td>A</td>\n",
       "      <td>57</td>\n",
       "      <td>60</td>\n",
       "      <td>18</td>\n",
       "      <td>84</td>\n",
       "    </tr>\n",
       "    <tr>\n",
       "      <th>3</th>\n",
       "      <td>Eorge</td>\n",
       "      <td>C</td>\n",
       "      <td>93</td>\n",
       "      <td>96</td>\n",
       "      <td>71</td>\n",
       "      <td>78</td>\n",
       "    </tr>\n",
       "    <tr>\n",
       "      <th>4</th>\n",
       "      <td>Oah</td>\n",
       "      <td>D</td>\n",
       "      <td>65</td>\n",
       "      <td>49</td>\n",
       "      <td>61</td>\n",
       "      <td>86</td>\n",
       "    </tr>\n",
       "    <tr>\n",
       "      <th>...</th>\n",
       "      <td>...</td>\n",
       "      <td>...</td>\n",
       "      <td>...</td>\n",
       "      <td>...</td>\n",
       "      <td>...</td>\n",
       "      <td>...</td>\n",
       "    </tr>\n",
       "    <tr>\n",
       "      <th>95</th>\n",
       "      <td>Gabriel</td>\n",
       "      <td>C</td>\n",
       "      <td>48</td>\n",
       "      <td>59</td>\n",
       "      <td>87</td>\n",
       "      <td>74</td>\n",
       "    </tr>\n",
       "    <tr>\n",
       "      <th>96</th>\n",
       "      <td>Austin7</td>\n",
       "      <td>C</td>\n",
       "      <td>21</td>\n",
       "      <td>31</td>\n",
       "      <td>30</td>\n",
       "      <td>43</td>\n",
       "    </tr>\n",
       "    <tr>\n",
       "      <th>97</th>\n",
       "      <td>Lincoln4</td>\n",
       "      <td>C</td>\n",
       "      <td>98</td>\n",
       "      <td>93</td>\n",
       "      <td>1</td>\n",
       "      <td>20</td>\n",
       "    </tr>\n",
       "    <tr>\n",
       "      <th>98</th>\n",
       "      <td>Eli</td>\n",
       "      <td>E</td>\n",
       "      <td>11</td>\n",
       "      <td>74</td>\n",
       "      <td>58</td>\n",
       "      <td>91</td>\n",
       "    </tr>\n",
       "    <tr>\n",
       "      <th>99</th>\n",
       "      <td>Ben</td>\n",
       "      <td>E</td>\n",
       "      <td>21</td>\n",
       "      <td>43</td>\n",
       "      <td>41</td>\n",
       "      <td>74</td>\n",
       "    </tr>\n",
       "  </tbody>\n",
       "</table>\n",
       "<p>100 rows × 6 columns</p>\n",
       "</div>"
      ]
     },
     "execution_count": 3,
     "metadata": {},
     "output_type": "execute_result"
    }
   ],
   "execution_count": 3
  },
  {
   "metadata": {
    "ExecuteTime": {
     "end_time": "2025-02-07T03:20:40.601833Z",
     "start_time": "2025-02-07T03:20:40.591032Z"
    }
   },
   "cell_type": "code",
   "source": "df.head()",
   "id": "a0299bf9a71134f0",
   "outputs": [
    {
     "data": {
      "text/plain": [
       "    name team  Q1  Q2  Q3  Q4\n",
       "0  Liver    E  89  21  24  64\n",
       "1   Arry    C  36  37  37  57\n",
       "2    Ack    A  57  60  18  84\n",
       "3  Eorge    C  93  96  71  78\n",
       "4    Oah    D  65  49  61  86"
      ],
      "text/html": [
       "<div>\n",
       "<style scoped>\n",
       "    .dataframe tbody tr th:only-of-type {\n",
       "        vertical-align: middle;\n",
       "    }\n",
       "\n",
       "    .dataframe tbody tr th {\n",
       "        vertical-align: top;\n",
       "    }\n",
       "\n",
       "    .dataframe thead th {\n",
       "        text-align: right;\n",
       "    }\n",
       "</style>\n",
       "<table border=\"1\" class=\"dataframe\">\n",
       "  <thead>\n",
       "    <tr style=\"text-align: right;\">\n",
       "      <th></th>\n",
       "      <th>name</th>\n",
       "      <th>team</th>\n",
       "      <th>Q1</th>\n",
       "      <th>Q2</th>\n",
       "      <th>Q3</th>\n",
       "      <th>Q4</th>\n",
       "    </tr>\n",
       "  </thead>\n",
       "  <tbody>\n",
       "    <tr>\n",
       "      <th>0</th>\n",
       "      <td>Liver</td>\n",
       "      <td>E</td>\n",
       "      <td>89</td>\n",
       "      <td>21</td>\n",
       "      <td>24</td>\n",
       "      <td>64</td>\n",
       "    </tr>\n",
       "    <tr>\n",
       "      <th>1</th>\n",
       "      <td>Arry</td>\n",
       "      <td>C</td>\n",
       "      <td>36</td>\n",
       "      <td>37</td>\n",
       "      <td>37</td>\n",
       "      <td>57</td>\n",
       "    </tr>\n",
       "    <tr>\n",
       "      <th>2</th>\n",
       "      <td>Ack</td>\n",
       "      <td>A</td>\n",
       "      <td>57</td>\n",
       "      <td>60</td>\n",
       "      <td>18</td>\n",
       "      <td>84</td>\n",
       "    </tr>\n",
       "    <tr>\n",
       "      <th>3</th>\n",
       "      <td>Eorge</td>\n",
       "      <td>C</td>\n",
       "      <td>93</td>\n",
       "      <td>96</td>\n",
       "      <td>71</td>\n",
       "      <td>78</td>\n",
       "    </tr>\n",
       "    <tr>\n",
       "      <th>4</th>\n",
       "      <td>Oah</td>\n",
       "      <td>D</td>\n",
       "      <td>65</td>\n",
       "      <td>49</td>\n",
       "      <td>61</td>\n",
       "      <td>86</td>\n",
       "    </tr>\n",
       "  </tbody>\n",
       "</table>\n",
       "</div>"
      ]
     },
     "execution_count": 4,
     "metadata": {},
     "output_type": "execute_result"
    }
   ],
   "execution_count": 4
  },
  {
   "metadata": {
    "ExecuteTime": {
     "end_time": "2025-02-07T03:20:56.506376Z",
     "start_time": "2025-02-07T03:20:56.494906Z"
    }
   },
   "cell_type": "code",
   "source": "df.tail()",
   "id": "322f0c00d813089a",
   "outputs": [
    {
     "data": {
      "text/plain": [
       "        name team  Q1  Q2  Q3  Q4\n",
       "95   Gabriel    C  48  59  87  74\n",
       "96   Austin7    C  21  31  30  43\n",
       "97  Lincoln4    C  98  93   1  20\n",
       "98       Eli    E  11  74  58  91\n",
       "99       Ben    E  21  43  41  74"
      ],
      "text/html": [
       "<div>\n",
       "<style scoped>\n",
       "    .dataframe tbody tr th:only-of-type {\n",
       "        vertical-align: middle;\n",
       "    }\n",
       "\n",
       "    .dataframe tbody tr th {\n",
       "        vertical-align: top;\n",
       "    }\n",
       "\n",
       "    .dataframe thead th {\n",
       "        text-align: right;\n",
       "    }\n",
       "</style>\n",
       "<table border=\"1\" class=\"dataframe\">\n",
       "  <thead>\n",
       "    <tr style=\"text-align: right;\">\n",
       "      <th></th>\n",
       "      <th>name</th>\n",
       "      <th>team</th>\n",
       "      <th>Q1</th>\n",
       "      <th>Q2</th>\n",
       "      <th>Q3</th>\n",
       "      <th>Q4</th>\n",
       "    </tr>\n",
       "  </thead>\n",
       "  <tbody>\n",
       "    <tr>\n",
       "      <th>95</th>\n",
       "      <td>Gabriel</td>\n",
       "      <td>C</td>\n",
       "      <td>48</td>\n",
       "      <td>59</td>\n",
       "      <td>87</td>\n",
       "      <td>74</td>\n",
       "    </tr>\n",
       "    <tr>\n",
       "      <th>96</th>\n",
       "      <td>Austin7</td>\n",
       "      <td>C</td>\n",
       "      <td>21</td>\n",
       "      <td>31</td>\n",
       "      <td>30</td>\n",
       "      <td>43</td>\n",
       "    </tr>\n",
       "    <tr>\n",
       "      <th>97</th>\n",
       "      <td>Lincoln4</td>\n",
       "      <td>C</td>\n",
       "      <td>98</td>\n",
       "      <td>93</td>\n",
       "      <td>1</td>\n",
       "      <td>20</td>\n",
       "    </tr>\n",
       "    <tr>\n",
       "      <th>98</th>\n",
       "      <td>Eli</td>\n",
       "      <td>E</td>\n",
       "      <td>11</td>\n",
       "      <td>74</td>\n",
       "      <td>58</td>\n",
       "      <td>91</td>\n",
       "    </tr>\n",
       "    <tr>\n",
       "      <th>99</th>\n",
       "      <td>Ben</td>\n",
       "      <td>E</td>\n",
       "      <td>21</td>\n",
       "      <td>43</td>\n",
       "      <td>41</td>\n",
       "      <td>74</td>\n",
       "    </tr>\n",
       "  </tbody>\n",
       "</table>\n",
       "</div>"
      ]
     },
     "execution_count": 5,
     "metadata": {},
     "output_type": "execute_result"
    }
   ],
   "execution_count": 5
  },
  {
   "metadata": {
    "ExecuteTime": {
     "end_time": "2025-02-07T03:21:42.490596Z",
     "start_time": "2025-02-07T03:21:42.479721Z"
    }
   },
   "cell_type": "code",
   "source": "df.sample(5)",
   "id": "da97a1ad5bb70879",
   "outputs": [
    {
     "data": {
      "text/plain": [
       "        name team  Q1  Q2  Q3  Q4\n",
       "44  Benjamin    D  15  88  52  25\n",
       "43      Jude    E   8  45  13  65\n",
       "59      Luca    D   5  40  91  83\n",
       "80      Ryan    E  92  70  64  31\n",
       "74     Roman    E  73   1  25  44"
      ],
      "text/html": [
       "<div>\n",
       "<style scoped>\n",
       "    .dataframe tbody tr th:only-of-type {\n",
       "        vertical-align: middle;\n",
       "    }\n",
       "\n",
       "    .dataframe tbody tr th {\n",
       "        vertical-align: top;\n",
       "    }\n",
       "\n",
       "    .dataframe thead th {\n",
       "        text-align: right;\n",
       "    }\n",
       "</style>\n",
       "<table border=\"1\" class=\"dataframe\">\n",
       "  <thead>\n",
       "    <tr style=\"text-align: right;\">\n",
       "      <th></th>\n",
       "      <th>name</th>\n",
       "      <th>team</th>\n",
       "      <th>Q1</th>\n",
       "      <th>Q2</th>\n",
       "      <th>Q3</th>\n",
       "      <th>Q4</th>\n",
       "    </tr>\n",
       "  </thead>\n",
       "  <tbody>\n",
       "    <tr>\n",
       "      <th>44</th>\n",
       "      <td>Benjamin</td>\n",
       "      <td>D</td>\n",
       "      <td>15</td>\n",
       "      <td>88</td>\n",
       "      <td>52</td>\n",
       "      <td>25</td>\n",
       "    </tr>\n",
       "    <tr>\n",
       "      <th>43</th>\n",
       "      <td>Jude</td>\n",
       "      <td>E</td>\n",
       "      <td>8</td>\n",
       "      <td>45</td>\n",
       "      <td>13</td>\n",
       "      <td>65</td>\n",
       "    </tr>\n",
       "    <tr>\n",
       "      <th>59</th>\n",
       "      <td>Luca</td>\n",
       "      <td>D</td>\n",
       "      <td>5</td>\n",
       "      <td>40</td>\n",
       "      <td>91</td>\n",
       "      <td>83</td>\n",
       "    </tr>\n",
       "    <tr>\n",
       "      <th>80</th>\n",
       "      <td>Ryan</td>\n",
       "      <td>E</td>\n",
       "      <td>92</td>\n",
       "      <td>70</td>\n",
       "      <td>64</td>\n",
       "      <td>31</td>\n",
       "    </tr>\n",
       "    <tr>\n",
       "      <th>74</th>\n",
       "      <td>Roman</td>\n",
       "      <td>E</td>\n",
       "      <td>73</td>\n",
       "      <td>1</td>\n",
       "      <td>25</td>\n",
       "      <td>44</td>\n",
       "    </tr>\n",
       "  </tbody>\n",
       "</table>\n",
       "</div>"
      ]
     },
     "execution_count": 7,
     "metadata": {},
     "output_type": "execute_result"
    }
   ],
   "execution_count": 7
  },
  {
   "metadata": {
    "ExecuteTime": {
     "end_time": "2025-02-07T03:22:42.160997Z",
     "start_time": "2025-02-07T03:22:42.154840Z"
    }
   },
   "cell_type": "code",
   "source": "df.shape",
   "id": "44579eb51dc01521",
   "outputs": [
    {
     "data": {
      "text/plain": [
       "(100, 6)"
      ]
     },
     "execution_count": 9,
     "metadata": {},
     "output_type": "execute_result"
    }
   ],
   "execution_count": 9
  },
  {
   "metadata": {
    "ExecuteTime": {
     "end_time": "2025-02-07T03:22:56.021528Z",
     "start_time": "2025-02-07T03:22:56.003739Z"
    }
   },
   "cell_type": "code",
   "source": "df.describe()",
   "id": "3756a988830b355f",
   "outputs": [
    {
     "data": {
      "text/plain": [
       "               Q1          Q2          Q3          Q4\n",
       "count  100.000000  100.000000  100.000000  100.000000\n",
       "mean    49.200000   52.550000   52.670000   52.780000\n",
       "std     29.962603   29.845181   26.543677   27.818524\n",
       "min      1.000000    1.000000    1.000000    2.000000\n",
       "25%     19.500000   26.750000   29.500000   29.500000\n",
       "50%     51.500000   49.500000   55.000000   53.000000\n",
       "75%     74.250000   77.750000   76.250000   75.250000\n",
       "max     98.000000   99.000000   99.000000   99.000000"
      ],
      "text/html": [
       "<div>\n",
       "<style scoped>\n",
       "    .dataframe tbody tr th:only-of-type {\n",
       "        vertical-align: middle;\n",
       "    }\n",
       "\n",
       "    .dataframe tbody tr th {\n",
       "        vertical-align: top;\n",
       "    }\n",
       "\n",
       "    .dataframe thead th {\n",
       "        text-align: right;\n",
       "    }\n",
       "</style>\n",
       "<table border=\"1\" class=\"dataframe\">\n",
       "  <thead>\n",
       "    <tr style=\"text-align: right;\">\n",
       "      <th></th>\n",
       "      <th>Q1</th>\n",
       "      <th>Q2</th>\n",
       "      <th>Q3</th>\n",
       "      <th>Q4</th>\n",
       "    </tr>\n",
       "  </thead>\n",
       "  <tbody>\n",
       "    <tr>\n",
       "      <th>count</th>\n",
       "      <td>100.000000</td>\n",
       "      <td>100.000000</td>\n",
       "      <td>100.000000</td>\n",
       "      <td>100.000000</td>\n",
       "    </tr>\n",
       "    <tr>\n",
       "      <th>mean</th>\n",
       "      <td>49.200000</td>\n",
       "      <td>52.550000</td>\n",
       "      <td>52.670000</td>\n",
       "      <td>52.780000</td>\n",
       "    </tr>\n",
       "    <tr>\n",
       "      <th>std</th>\n",
       "      <td>29.962603</td>\n",
       "      <td>29.845181</td>\n",
       "      <td>26.543677</td>\n",
       "      <td>27.818524</td>\n",
       "    </tr>\n",
       "    <tr>\n",
       "      <th>min</th>\n",
       "      <td>1.000000</td>\n",
       "      <td>1.000000</td>\n",
       "      <td>1.000000</td>\n",
       "      <td>2.000000</td>\n",
       "    </tr>\n",
       "    <tr>\n",
       "      <th>25%</th>\n",
       "      <td>19.500000</td>\n",
       "      <td>26.750000</td>\n",
       "      <td>29.500000</td>\n",
       "      <td>29.500000</td>\n",
       "    </tr>\n",
       "    <tr>\n",
       "      <th>50%</th>\n",
       "      <td>51.500000</td>\n",
       "      <td>49.500000</td>\n",
       "      <td>55.000000</td>\n",
       "      <td>53.000000</td>\n",
       "    </tr>\n",
       "    <tr>\n",
       "      <th>75%</th>\n",
       "      <td>74.250000</td>\n",
       "      <td>77.750000</td>\n",
       "      <td>76.250000</td>\n",
       "      <td>75.250000</td>\n",
       "    </tr>\n",
       "    <tr>\n",
       "      <th>max</th>\n",
       "      <td>98.000000</td>\n",
       "      <td>99.000000</td>\n",
       "      <td>99.000000</td>\n",
       "      <td>99.000000</td>\n",
       "    </tr>\n",
       "  </tbody>\n",
       "</table>\n",
       "</div>"
      ]
     },
     "execution_count": 10,
     "metadata": {},
     "output_type": "execute_result"
    }
   ],
   "execution_count": 10
  },
  {
   "metadata": {
    "ExecuteTime": {
     "end_time": "2025-02-07T03:23:14.318267Z",
     "start_time": "2025-02-07T03:23:14.306605Z"
    }
   },
   "cell_type": "code",
   "source": "df.info()",
   "id": "c55354f312f93a6c",
   "outputs": [
    {
     "name": "stdout",
     "output_type": "stream",
     "text": [
      "<class 'pandas.core.frame.DataFrame'>\n",
      "RangeIndex: 100 entries, 0 to 99\n",
      "Data columns (total 6 columns):\n",
      " #   Column  Non-Null Count  Dtype \n",
      "---  ------  --------------  ----- \n",
      " 0   name    100 non-null    object\n",
      " 1   team    100 non-null    object\n",
      " 2   Q1      100 non-null    int64 \n",
      " 3   Q2      100 non-null    int64 \n",
      " 4   Q3      100 non-null    int64 \n",
      " 5   Q4      100 non-null    int64 \n",
      "dtypes: int64(4), object(2)\n",
      "memory usage: 4.8+ KB\n"
     ]
    }
   ],
   "execution_count": 11
  },
  {
   "metadata": {
    "ExecuteTime": {
     "end_time": "2025-02-07T03:23:30.025170Z",
     "start_time": "2025-02-07T03:23:30.018097Z"
    }
   },
   "cell_type": "code",
   "source": "df.dtypes",
   "id": "2b2b2608dfa21cb0",
   "outputs": [
    {
     "data": {
      "text/plain": [
       "name    object\n",
       "team    object\n",
       "Q1       int64\n",
       "Q2       int64\n",
       "Q3       int64\n",
       "Q4       int64\n",
       "dtype: object"
      ]
     },
     "execution_count": 12,
     "metadata": {},
     "output_type": "execute_result"
    }
   ],
   "execution_count": 12
  },
  {
   "metadata": {
    "ExecuteTime": {
     "end_time": "2025-02-07T03:23:50.047076Z",
     "start_time": "2025-02-07T03:23:50.041137Z"
    }
   },
   "cell_type": "code",
   "source": "df.axes",
   "id": "2b5b17e7cdbf3ef3",
   "outputs": [
    {
     "data": {
      "text/plain": [
       "[RangeIndex(start=0, stop=100, step=1),\n",
       " Index(['name', 'team', 'Q1', 'Q2', 'Q3', 'Q4'], dtype='object')]"
      ]
     },
     "execution_count": 13,
     "metadata": {},
     "output_type": "execute_result"
    }
   ],
   "execution_count": 13
  },
  {
   "metadata": {
    "ExecuteTime": {
     "end_time": "2025-02-07T03:24:21.932407Z",
     "start_time": "2025-02-07T03:24:21.926059Z"
    }
   },
   "cell_type": "code",
   "source": "df.columns",
   "id": "70c07afd0ffc1e4e",
   "outputs": [
    {
     "data": {
      "text/plain": [
       "Index(['name', 'team', 'Q1', 'Q2', 'Q3', 'Q4'], dtype='object')"
      ]
     },
     "execution_count": 14,
     "metadata": {},
     "output_type": "execute_result"
    }
   ],
   "execution_count": 14
  },
  {
   "metadata": {
    "ExecuteTime": {
     "end_time": "2025-02-07T03:27:42.535888Z",
     "start_time": "2025-02-07T03:27:42.530995Z"
    }
   },
   "cell_type": "code",
   "source": "df.set_index('name',inplace=True)",
   "id": "b43b52eedf2fdf4d",
   "outputs": [],
   "execution_count": 16
  },
  {
   "metadata": {
    "ExecuteTime": {
     "end_time": "2025-02-07T03:28:24.014220Z",
     "start_time": "2025-02-07T03:28:24.006356Z"
    }
   },
   "cell_type": "code",
   "source": "df['Q1']",
   "id": "32cb421df43d7a14",
   "outputs": [
    {
     "data": {
      "text/plain": [
       "name\n",
       "Liver       89\n",
       "Arry        36\n",
       "Ack         57\n",
       "Eorge       93\n",
       "Oah         65\n",
       "            ..\n",
       "Gabriel     48\n",
       "Austin7     21\n",
       "Lincoln4    98\n",
       "Eli         11\n",
       "Ben         21\n",
       "Name: Q1, Length: 100, dtype: int64"
      ]
     },
     "execution_count": 17,
     "metadata": {},
     "output_type": "execute_result"
    }
   ],
   "execution_count": 17
  },
  {
   "metadata": {
    "ExecuteTime": {
     "end_time": "2025-02-07T03:28:43.123782Z",
     "start_time": "2025-02-07T03:28:43.115942Z"
    }
   },
   "cell_type": "code",
   "source": "df.Q1",
   "id": "a83ad026e3b66457",
   "outputs": [
    {
     "data": {
      "text/plain": [
       "name\n",
       "Liver       89\n",
       "Arry        36\n",
       "Ack         57\n",
       "Eorge       93\n",
       "Oah         65\n",
       "            ..\n",
       "Gabriel     48\n",
       "Austin7     21\n",
       "Lincoln4    98\n",
       "Eli         11\n",
       "Ben         21\n",
       "Name: Q1, Length: 100, dtype: int64"
      ]
     },
     "execution_count": 18,
     "metadata": {},
     "output_type": "execute_result"
    }
   ],
   "execution_count": 18
  },
  {
   "metadata": {
    "ExecuteTime": {
     "end_time": "2025-02-07T08:00:39.701964Z",
     "start_time": "2025-02-07T08:00:39.689583Z"
    }
   },
   "cell_type": "code",
   "source": "df.loc[:,['team','Q1']]",
   "id": "6aaeb9870ceb4db1",
   "outputs": [
    {
     "data": {
      "text/plain": [
       "         team  Q1\n",
       "name             \n",
       "Liver       E  89\n",
       "Arry        C  36\n",
       "Ack         A  57\n",
       "Eorge       C  93\n",
       "Oah         D  65\n",
       "...       ...  ..\n",
       "Gabriel     C  48\n",
       "Austin7     C  21\n",
       "Lincoln4    C  98\n",
       "Eli         E  11\n",
       "Ben         E  21\n",
       "\n",
       "[100 rows x 2 columns]"
      ],
      "text/html": [
       "<div>\n",
       "<style scoped>\n",
       "    .dataframe tbody tr th:only-of-type {\n",
       "        vertical-align: middle;\n",
       "    }\n",
       "\n",
       "    .dataframe tbody tr th {\n",
       "        vertical-align: top;\n",
       "    }\n",
       "\n",
       "    .dataframe thead th {\n",
       "        text-align: right;\n",
       "    }\n",
       "</style>\n",
       "<table border=\"1\" class=\"dataframe\">\n",
       "  <thead>\n",
       "    <tr style=\"text-align: right;\">\n",
       "      <th></th>\n",
       "      <th>team</th>\n",
       "      <th>Q1</th>\n",
       "    </tr>\n",
       "    <tr>\n",
       "      <th>name</th>\n",
       "      <th></th>\n",
       "      <th></th>\n",
       "    </tr>\n",
       "  </thead>\n",
       "  <tbody>\n",
       "    <tr>\n",
       "      <th>Liver</th>\n",
       "      <td>E</td>\n",
       "      <td>89</td>\n",
       "    </tr>\n",
       "    <tr>\n",
       "      <th>Arry</th>\n",
       "      <td>C</td>\n",
       "      <td>36</td>\n",
       "    </tr>\n",
       "    <tr>\n",
       "      <th>Ack</th>\n",
       "      <td>A</td>\n",
       "      <td>57</td>\n",
       "    </tr>\n",
       "    <tr>\n",
       "      <th>Eorge</th>\n",
       "      <td>C</td>\n",
       "      <td>93</td>\n",
       "    </tr>\n",
       "    <tr>\n",
       "      <th>Oah</th>\n",
       "      <td>D</td>\n",
       "      <td>65</td>\n",
       "    </tr>\n",
       "    <tr>\n",
       "      <th>...</th>\n",
       "      <td>...</td>\n",
       "      <td>...</td>\n",
       "    </tr>\n",
       "    <tr>\n",
       "      <th>Gabriel</th>\n",
       "      <td>C</td>\n",
       "      <td>48</td>\n",
       "    </tr>\n",
       "    <tr>\n",
       "      <th>Austin7</th>\n",
       "      <td>C</td>\n",
       "      <td>21</td>\n",
       "    </tr>\n",
       "    <tr>\n",
       "      <th>Lincoln4</th>\n",
       "      <td>C</td>\n",
       "      <td>98</td>\n",
       "    </tr>\n",
       "    <tr>\n",
       "      <th>Eli</th>\n",
       "      <td>E</td>\n",
       "      <td>11</td>\n",
       "    </tr>\n",
       "    <tr>\n",
       "      <th>Ben</th>\n",
       "      <td>E</td>\n",
       "      <td>21</td>\n",
       "    </tr>\n",
       "  </tbody>\n",
       "</table>\n",
       "<p>100 rows × 2 columns</p>\n",
       "</div>"
      ]
     },
     "execution_count": 19,
     "metadata": {},
     "output_type": "execute_result"
    }
   ],
   "execution_count": 19
  },
  {
   "metadata": {
    "ExecuteTime": {
     "end_time": "2025-02-07T08:01:37.550826Z",
     "start_time": "2025-02-07T08:01:37.539552Z"
    }
   },
   "cell_type": "code",
   "source": "df[df.index=='Liver']",
   "id": "a285e5137fbd95d4",
   "outputs": [
    {
     "data": {
      "text/plain": [
       "      team  Q1  Q2  Q3  Q4\n",
       "name                      \n",
       "Liver    E  89  21  24  64"
      ],
      "text/html": [
       "<div>\n",
       "<style scoped>\n",
       "    .dataframe tbody tr th:only-of-type {\n",
       "        vertical-align: middle;\n",
       "    }\n",
       "\n",
       "    .dataframe tbody tr th {\n",
       "        vertical-align: top;\n",
       "    }\n",
       "\n",
       "    .dataframe thead th {\n",
       "        text-align: right;\n",
       "    }\n",
       "</style>\n",
       "<table border=\"1\" class=\"dataframe\">\n",
       "  <thead>\n",
       "    <tr style=\"text-align: right;\">\n",
       "      <th></th>\n",
       "      <th>team</th>\n",
       "      <th>Q1</th>\n",
       "      <th>Q2</th>\n",
       "      <th>Q3</th>\n",
       "      <th>Q4</th>\n",
       "    </tr>\n",
       "    <tr>\n",
       "      <th>name</th>\n",
       "      <th></th>\n",
       "      <th></th>\n",
       "      <th></th>\n",
       "      <th></th>\n",
       "      <th></th>\n",
       "    </tr>\n",
       "  </thead>\n",
       "  <tbody>\n",
       "    <tr>\n",
       "      <th>Liver</th>\n",
       "      <td>E</td>\n",
       "      <td>89</td>\n",
       "      <td>21</td>\n",
       "      <td>24</td>\n",
       "      <td>64</td>\n",
       "    </tr>\n",
       "  </tbody>\n",
       "</table>\n",
       "</div>"
      ]
     },
     "execution_count": 20,
     "metadata": {},
     "output_type": "execute_result"
    }
   ],
   "execution_count": 20
  },
  {
   "metadata": {
    "ExecuteTime": {
     "end_time": "2025-02-07T08:02:22.381061Z",
     "start_time": "2025-02-07T08:02:22.371749Z"
    }
   },
   "cell_type": "code",
   "source": "df.loc['Ben','Q1':'Q4']",
   "id": "af10f26b938e1f67",
   "outputs": [
    {
     "data": {
      "text/plain": [
       "Q1    21\n",
       "Q2    43\n",
       "Q3    41\n",
       "Q4    74\n",
       "Name: Ben, dtype: object"
      ]
     },
     "execution_count": 21,
     "metadata": {},
     "output_type": "execute_result"
    }
   ],
   "execution_count": 21
  },
  {
   "metadata": {
    "ExecuteTime": {
     "end_time": "2025-02-07T08:04:00.614043Z",
     "start_time": "2025-02-07T08:04:00.602291Z"
    }
   },
   "cell_type": "code",
   "source": "df[(df['Q1']>90) & (df['team'] == 'C')]",
   "id": "6c8d3c61b7adc6ee",
   "outputs": [
    {
     "data": {
      "text/plain": [
       "          team  Q1  Q2  Q3  Q4\n",
       "name                          \n",
       "Eorge        C  93  96  71  78\n",
       "Alexander    C  91  76  26  79\n",
       "Lincoln4     C  98  93   1  20"
      ],
      "text/html": [
       "<div>\n",
       "<style scoped>\n",
       "    .dataframe tbody tr th:only-of-type {\n",
       "        vertical-align: middle;\n",
       "    }\n",
       "\n",
       "    .dataframe tbody tr th {\n",
       "        vertical-align: top;\n",
       "    }\n",
       "\n",
       "    .dataframe thead th {\n",
       "        text-align: right;\n",
       "    }\n",
       "</style>\n",
       "<table border=\"1\" class=\"dataframe\">\n",
       "  <thead>\n",
       "    <tr style=\"text-align: right;\">\n",
       "      <th></th>\n",
       "      <th>team</th>\n",
       "      <th>Q1</th>\n",
       "      <th>Q2</th>\n",
       "      <th>Q3</th>\n",
       "      <th>Q4</th>\n",
       "    </tr>\n",
       "    <tr>\n",
       "      <th>name</th>\n",
       "      <th></th>\n",
       "      <th></th>\n",
       "      <th></th>\n",
       "      <th></th>\n",
       "      <th></th>\n",
       "    </tr>\n",
       "  </thead>\n",
       "  <tbody>\n",
       "    <tr>\n",
       "      <th>Eorge</th>\n",
       "      <td>C</td>\n",
       "      <td>93</td>\n",
       "      <td>96</td>\n",
       "      <td>71</td>\n",
       "      <td>78</td>\n",
       "    </tr>\n",
       "    <tr>\n",
       "      <th>Alexander</th>\n",
       "      <td>C</td>\n",
       "      <td>91</td>\n",
       "      <td>76</td>\n",
       "      <td>26</td>\n",
       "      <td>79</td>\n",
       "    </tr>\n",
       "    <tr>\n",
       "      <th>Lincoln4</th>\n",
       "      <td>C</td>\n",
       "      <td>98</td>\n",
       "      <td>93</td>\n",
       "      <td>1</td>\n",
       "      <td>20</td>\n",
       "    </tr>\n",
       "  </tbody>\n",
       "</table>\n",
       "</div>"
      ]
     },
     "execution_count": 22,
     "metadata": {},
     "output_type": "execute_result"
    }
   ],
   "execution_count": 22
  }
 ],
 "metadata": {
  "kernelspec": {
   "display_name": "Python 3 (ipykernel)",
   "language": "python",
   "name": "python3"
  },
  "language_info": {
   "codemirror_mode": {
    "name": "ipython",
    "version": 2
   },
   "file_extension": ".py",
   "mimetype": "text/x-python",
   "name": "python",
   "nbconvert_exporter": "python",
   "pygments_lexer": "ipython2",
   "version": "2.7.6"
  }
 },
 "nbformat": 4,
 "nbformat_minor": 5
}
