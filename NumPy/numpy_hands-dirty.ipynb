{
 "cells": [
  {
   "cell_type": "code",
   "id": "initial_id",
   "metadata": {
    "collapsed": true,
    "ExecuteTime": {
     "end_time": "2025-05-11T02:52:30.218447Z",
     "start_time": "2025-05-11T02:52:29.651935Z"
    }
   },
   "source": "import numpy as np",
   "outputs": [],
   "execution_count": 1
  },
  {
   "metadata": {
    "ExecuteTime": {
     "end_time": "2025-05-11T02:53:11.813990Z",
     "start_time": "2025-05-11T02:53:05.711761Z"
    }
   },
   "cell_type": "code",
   "source": [
    "L = range(1000)\n",
    "%timeit [i**2 for i in L]"
   ],
   "id": "8719ad06fd2b3997",
   "outputs": [
    {
     "name": "stdout",
     "output_type": "stream",
     "text": [
      "71.5 μs ± 5.82 μs per loop (mean ± std. dev. of 7 runs, 10,000 loops each)\n"
     ]
    }
   ],
   "execution_count": 2
  },
  {
   "metadata": {
    "ExecuteTime": {
     "end_time": "2025-05-11T02:54:02.095513Z",
     "start_time": "2025-05-11T02:54:00.525178Z"
    }
   },
   "cell_type": "code",
   "source": [
    "a = np.arange(1000)\n",
    "%timeit a**2"
   ],
   "id": "93947174a2e70a8e",
   "outputs": [
    {
     "name": "stdout",
     "output_type": "stream",
     "text": [
      "1.85 μs ± 276 ns per loop (mean ± std. dev. of 7 runs, 100,000 loops each)\n"
     ]
    }
   ],
   "execution_count": 3
  },
  {
   "metadata": {},
   "cell_type": "markdown",
   "source": "# Create arrays",
   "id": "cf1ad761cf22b232"
  },
  {
   "metadata": {},
   "cell_type": "markdown",
   "source": "## Create 1 D array",
   "id": "fba2867e81d2ac9a"
  },
  {
   "metadata": {
    "ExecuteTime": {
     "end_time": "2025-05-11T02:54:07.675084Z",
     "start_time": "2025-05-11T02:54:07.667511Z"
    }
   },
   "cell_type": "code",
   "source": [
    "# 1-D\n",
    "a = np.array([1,2,3,4,5], dtype = float)\n",
    "print(a.ndim)\n",
    "print(a.shape)\n",
    "print(a.dtype)"
   ],
   "id": "403477a60560861c",
   "outputs": [
    {
     "name": "stdout",
     "output_type": "stream",
     "text": [
      "1\n",
      "(5,)\n",
      "float64\n"
     ]
    }
   ],
   "execution_count": 4
  },
  {
   "metadata": {
    "ExecuteTime": {
     "end_time": "2025-05-07T02:08:38.501285Z",
     "start_time": "2025-05-07T02:08:38.493909Z"
    }
   },
   "cell_type": "code",
   "source": [
    "b = np.linspace(0,1,6)\n",
    "b"
   ],
   "id": "843d7a811ab69f1a",
   "outputs": [
    {
     "data": {
      "text/plain": [
       "array([0. , 0.2, 0.4, 0.6, 0.8, 1. ])"
      ]
     },
     "execution_count": 9,
     "metadata": {},
     "output_type": "execute_result"
    }
   ],
   "execution_count": 9
  },
  {
   "metadata": {
    "ExecuteTime": {
     "end_time": "2025-05-07T02:09:12.004029Z",
     "start_time": "2025-05-07T02:09:11.996583Z"
    }
   },
   "cell_type": "code",
   "source": [
    "c = np.ones((3,3))\n",
    "c"
   ],
   "id": "451fac31e6252e50",
   "outputs": [
    {
     "data": {
      "text/plain": [
       "array([[1., 1., 1.],\n",
       "       [1., 1., 1.],\n",
       "       [1., 1., 1.]])"
      ]
     },
     "execution_count": 10,
     "metadata": {},
     "output_type": "execute_result"
    }
   ],
   "execution_count": 10
  },
  {
   "metadata": {
    "ExecuteTime": {
     "end_time": "2025-05-07T02:09:50.934781Z",
     "start_time": "2025-05-07T02:09:50.926890Z"
    }
   },
   "cell_type": "code",
   "source": [
    "d = np.zeros((2,3))\n",
    "d"
   ],
   "id": "7f61202add630558",
   "outputs": [
    {
     "data": {
      "text/plain": [
       "array([[0., 0., 0.],\n",
       "       [0., 0., 0.]])"
      ]
     },
     "execution_count": 12,
     "metadata": {},
     "output_type": "execute_result"
    }
   ],
   "execution_count": 12
  },
  {
   "metadata": {
    "ExecuteTime": {
     "end_time": "2025-05-07T02:10:10.473656Z",
     "start_time": "2025-05-07T02:10:10.465654Z"
    }
   },
   "cell_type": "code",
   "source": [
    "e = np.eye(3)\n",
    "e"
   ],
   "id": "360fbae577e554f",
   "outputs": [
    {
     "data": {
      "text/plain": [
       "array([[1., 0., 0.],\n",
       "       [0., 1., 0.],\n",
       "       [0., 0., 1.]])"
      ]
     },
     "execution_count": 13,
     "metadata": {},
     "output_type": "execute_result"
    }
   ],
   "execution_count": 13
  },
  {
   "metadata": {
    "ExecuteTime": {
     "end_time": "2025-05-07T02:10:58.677414Z",
     "start_time": "2025-05-07T02:10:58.668788Z"
    }
   },
   "cell_type": "code",
   "source": [
    "f = np.diag(np.array([1,2,3,4,5]))\n",
    "f"
   ],
   "id": "845a3f3c7b7358d4",
   "outputs": [
    {
     "data": {
      "text/plain": [
       "array([[1, 0, 0, 0, 0],\n",
       "       [0, 2, 0, 0, 0],\n",
       "       [0, 0, 3, 0, 0],\n",
       "       [0, 0, 0, 4, 0],\n",
       "       [0, 0, 0, 0, 5]])"
      ]
     },
     "execution_count": 15,
     "metadata": {},
     "output_type": "execute_result"
    }
   ],
   "execution_count": 15
  },
  {
   "metadata": {
    "ExecuteTime": {
     "end_time": "2025-05-07T02:12:18.458856Z",
     "start_time": "2025-05-07T02:12:18.450636Z"
    }
   },
   "cell_type": "code",
   "source": [
    "rng = np.random.default_rng(27446968)\n",
    "j = rng.standard_normal(4)\n",
    "j"
   ],
   "id": "3227177767f45f43",
   "outputs": [
    {
     "data": {
      "text/plain": [
       "array([-0.37001528, -0.95098944,  0.1087444 ,  1.87133713])"
      ]
     },
     "execution_count": 16,
     "metadata": {},
     "output_type": "execute_result"
    }
   ],
   "execution_count": 16
  },
  {
   "metadata": {},
   "cell_type": "markdown",
   "source": "## 2 D",
   "id": "b9ece3c7b6357934"
  },
  {
   "metadata": {
    "ExecuteTime": {
     "end_time": "2025-05-07T02:04:07.272663Z",
     "start_time": "2025-05-07T02:04:07.263767Z"
    }
   },
   "cell_type": "code",
   "source": [
    "# 2-D\n",
    "b = np.array([[0,1, 2],[3,4,5]])\n",
    "print(b.ndim)\n",
    "b.shape"
   ],
   "id": "957410addee13430",
   "outputs": [
    {
     "name": "stdout",
     "output_type": "stream",
     "text": [
      "2\n"
     ]
    },
    {
     "data": {
      "text/plain": [
       "(2, 3)"
      ]
     },
     "execution_count": 6,
     "metadata": {},
     "output_type": "execute_result"
    }
   ],
   "execution_count": 6
  },
  {
   "metadata": {},
   "cell_type": "markdown",
   "source": "## 3 D",
   "id": "61e87495247f6348"
  },
  {
   "metadata": {
    "ExecuteTime": {
     "end_time": "2025-05-07T02:05:50.609714Z",
     "start_time": "2025-05-07T02:05:50.601293Z"
    }
   },
   "cell_type": "code",
   "source": [
    "# 3-D\n",
    "c = np.array([[[1,2,3],[4,5,6],[7,8,9]]])\n",
    "print(c.ndim)\n",
    "c.shape"
   ],
   "id": "a39c976b0c48e0ef",
   "outputs": [
    {
     "name": "stdout",
     "output_type": "stream",
     "text": [
      "3\n"
     ]
    },
    {
     "data": {
      "text/plain": [
       "(1, 3, 3)"
      ]
     },
     "execution_count": 8,
     "metadata": {},
     "output_type": "execute_result"
    }
   ],
   "execution_count": 8
  },
  {
   "metadata": {},
   "cell_type": "markdown",
   "source": "# Numerical operations on arrays",
   "id": "259c861bc792c4e2"
  },
  {
   "metadata": {
    "ExecuteTime": {
     "end_time": "2025-05-07T02:19:23.520931Z",
     "start_time": "2025-05-07T02:19:23.512044Z"
    }
   },
   "cell_type": "code",
   "source": [
    "arr = np.array([1,2,3,4])\n",
    "arr + 1"
   ],
   "id": "7425fc74b041f87d",
   "outputs": [
    {
     "data": {
      "text/plain": [
       "array([2, 3, 4, 5])"
      ]
     },
     "execution_count": 22,
     "metadata": {},
     "output_type": "execute_result"
    }
   ],
   "execution_count": 22
  },
  {
   "metadata": {
    "ExecuteTime": {
     "end_time": "2025-05-07T02:19:39.837787Z",
     "start_time": "2025-05-07T02:19:39.829690Z"
    }
   },
   "cell_type": "code",
   "source": "2 ** arr",
   "id": "31b1a8384f19f5b0",
   "outputs": [
    {
     "data": {
      "text/plain": [
       "array([ 2,  4,  8, 16])"
      ]
     },
     "execution_count": 23,
     "metadata": {},
     "output_type": "execute_result"
    }
   ],
   "execution_count": 23
  },
  {
   "metadata": {},
   "cell_type": "markdown",
   "source": "## All arithmetic operates elementwise",
   "id": "89679992cac60572"
  },
  {
   "metadata": {
    "ExecuteTime": {
     "end_time": "2025-05-07T06:22:20.848259Z",
     "start_time": "2025-05-07T06:22:20.840409Z"
    }
   },
   "cell_type": "code",
   "source": [
    "arr2 = np.ones(4)\n",
    "arr2"
   ],
   "id": "f4671a75ccbf1533",
   "outputs": [
    {
     "data": {
      "text/plain": [
       "array([1., 1., 1., 1.])"
      ]
     },
     "execution_count": 25,
     "metadata": {},
     "output_type": "execute_result"
    }
   ],
   "execution_count": 25
  },
  {
   "metadata": {
    "ExecuteTime": {
     "end_time": "2025-05-07T06:22:33.323088Z",
     "start_time": "2025-05-07T06:22:33.314685Z"
    }
   },
   "cell_type": "code",
   "source": "arr2 + 1",
   "id": "6a1cf5247ea916a",
   "outputs": [
    {
     "data": {
      "text/plain": [
       "array([2., 2., 2., 2.])"
      ]
     },
     "execution_count": 26,
     "metadata": {},
     "output_type": "execute_result"
    }
   ],
   "execution_count": 26
  },
  {
   "metadata": {
    "ExecuteTime": {
     "end_time": "2025-05-07T06:22:59.558391Z",
     "start_time": "2025-05-07T06:22:59.551127Z"
    }
   },
   "cell_type": "code",
   "source": "arr - arr2",
   "id": "af1db037b421f813",
   "outputs": [
    {
     "data": {
      "text/plain": [
       "array([0., 1., 2., 3.])"
      ]
     },
     "execution_count": 27,
     "metadata": {},
     "output_type": "execute_result"
    }
   ],
   "execution_count": 27
  },
  {
   "metadata": {
    "ExecuteTime": {
     "end_time": "2025-05-07T06:23:14.469988Z",
     "start_time": "2025-05-07T06:23:14.463031Z"
    }
   },
   "cell_type": "code",
   "source": "arr * arr2",
   "id": "8b1fc3714021bfec",
   "outputs": [
    {
     "data": {
      "text/plain": [
       "array([1., 2., 3., 4.])"
      ]
     },
     "execution_count": 28,
     "metadata": {},
     "output_type": "execute_result"
    }
   ],
   "execution_count": 28
  },
  {
   "metadata": {
    "ExecuteTime": {
     "end_time": "2025-05-07T06:24:04.844619Z",
     "start_time": "2025-05-07T06:24:04.835829Z"
    }
   },
   "cell_type": "code",
   "source": [
    "arr3 = np.ones((3,3))\n",
    "arr3"
   ],
   "id": "49d611ff836daa7e",
   "outputs": [
    {
     "data": {
      "text/plain": [
       "array([[1., 1., 1.],\n",
       "       [1., 1., 1.],\n",
       "       [1., 1., 1.]])"
      ]
     },
     "execution_count": 29,
     "metadata": {},
     "output_type": "execute_result"
    }
   ],
   "execution_count": 29
  },
  {
   "metadata": {
    "ExecuteTime": {
     "end_time": "2025-05-07T06:24:17.518569Z",
     "start_time": "2025-05-07T06:24:17.511088Z"
    }
   },
   "cell_type": "code",
   "source": "arr3 * arr3         # NOT matrix multiplication",
   "id": "3b1bfa1c03b6d22d",
   "outputs": [
    {
     "data": {
      "text/plain": [
       "array([[1., 1., 1.],\n",
       "       [1., 1., 1.],\n",
       "       [1., 1., 1.]])"
      ]
     },
     "execution_count": 30,
     "metadata": {},
     "output_type": "execute_result"
    }
   ],
   "execution_count": 30
  },
  {
   "metadata": {
    "ExecuteTime": {
     "end_time": "2025-05-07T06:24:30.592904Z",
     "start_time": "2025-05-07T06:24:30.585091Z"
    }
   },
   "cell_type": "code",
   "source": "arr3 @ arr3         # Matrix multiplication",
   "id": "a46ee1d1e5d462b0",
   "outputs": [
    {
     "data": {
      "text/plain": [
       "array([[3., 3., 3.],\n",
       "       [3., 3., 3.],\n",
       "       [3., 3., 3.]])"
      ]
     },
     "execution_count": 31,
     "metadata": {},
     "output_type": "execute_result"
    }
   ],
   "execution_count": 31
  },
  {
   "metadata": {
    "ExecuteTime": {
     "end_time": "2025-05-07T06:26:26.272601Z",
     "start_time": "2025-05-07T06:26:26.264875Z"
    }
   },
   "cell_type": "code",
   "source": [
    "arr4 = np.array([1,2,3,4])\n",
    "arr5 = np.array([4,2,2,4])\n",
    "arr4 ==  arr5"
   ],
   "id": "9e9796907f7d67cd",
   "outputs": [
    {
     "data": {
      "text/plain": [
       "array([False,  True, False,  True])"
      ]
     },
     "execution_count": 32,
     "metadata": {},
     "output_type": "execute_result"
    }
   ],
   "execution_count": 32
  },
  {
   "metadata": {
    "ExecuteTime": {
     "end_time": "2025-05-07T06:26:44.476506Z",
     "start_time": "2025-05-07T06:26:44.469555Z"
    }
   },
   "cell_type": "code",
   "source": "arr4 > arr5",
   "id": "491864996f1e552",
   "outputs": [
    {
     "data": {
      "text/plain": [
       "array([False, False,  True, False])"
      ]
     },
     "execution_count": 33,
     "metadata": {},
     "output_type": "execute_result"
    }
   ],
   "execution_count": 33
  },
  {
   "metadata": {},
   "cell_type": "markdown",
   "source": "### Logical operations",
   "id": "7141e2b62aabb9f0"
  },
  {
   "metadata": {
    "ExecuteTime": {
     "end_time": "2025-05-07T06:28:24.149615Z",
     "start_time": "2025-05-07T06:28:24.140349Z"
    }
   },
   "cell_type": "code",
   "source": [
    "arr6 = np.array([1,1,0,0], dtype=bool)\n",
    "arr7 = np.array([1,0,1,0], dtype=bool)\n",
    "np.logical_or(arr6, arr7)"
   ],
   "id": "328a3da6f84d1e3d",
   "outputs": [
    {
     "data": {
      "text/plain": [
       "array([ True,  True,  True, False])"
      ]
     },
     "execution_count": 34,
     "metadata": {},
     "output_type": "execute_result"
    }
   ],
   "execution_count": 34
  },
  {
   "metadata": {
    "ExecuteTime": {
     "end_time": "2025-05-07T06:28:44.657736Z",
     "start_time": "2025-05-07T06:28:44.650565Z"
    }
   },
   "cell_type": "code",
   "source": "np.logical_and(arr6, arr7)",
   "id": "52cacfcc2ba5ecea",
   "outputs": [
    {
     "data": {
      "text/plain": [
       "array([ True, False, False, False])"
      ]
     },
     "execution_count": 35,
     "metadata": {},
     "output_type": "execute_result"
    }
   ],
   "execution_count": 35
  },
  {
   "metadata": {},
   "cell_type": "markdown",
   "source": "### Transcendental functions:",
   "id": "3a06c55ad87abe1f"
  },
  {
   "metadata": {
    "ExecuteTime": {
     "end_time": "2025-05-07T06:30:20.132021Z",
     "start_time": "2025-05-07T06:30:20.124106Z"
    }
   },
   "cell_type": "code",
   "source": [
    "arr8 = np.arange(5)\n",
    "np.sin(arr8)"
   ],
   "id": "f56ed934a67ae4b8",
   "outputs": [
    {
     "data": {
      "text/plain": [
       "array([ 0.        ,  0.84147098,  0.90929743,  0.14112001, -0.7568025 ])"
      ]
     },
     "execution_count": 36,
     "metadata": {},
     "output_type": "execute_result"
    }
   ],
   "execution_count": 36
  },
  {
   "metadata": {
    "ExecuteTime": {
     "end_time": "2025-05-07T06:30:34.457113Z",
     "start_time": "2025-05-07T06:30:34.449779Z"
    }
   },
   "cell_type": "code",
   "source": "np.exp(arr8)",
   "id": "e5d7d0cb8fbd33e1",
   "outputs": [
    {
     "data": {
      "text/plain": [
       "array([ 1.        ,  2.71828183,  7.3890561 , 20.08553692, 54.59815003])"
      ]
     },
     "execution_count": 37,
     "metadata": {},
     "output_type": "execute_result"
    }
   ],
   "execution_count": 37
  },
  {
   "metadata": {
    "ExecuteTime": {
     "end_time": "2025-05-07T06:30:51.411286Z",
     "start_time": "2025-05-07T06:30:51.403980Z"
    }
   },
   "cell_type": "code",
   "source": "np.log(np.exp(arr8))",
   "id": "fd79f3f4c4c2e64f",
   "outputs": [
    {
     "data": {
      "text/plain": [
       "array([0., 1., 2., 3., 4.])"
      ]
     },
     "execution_count": 38,
     "metadata": {},
     "output_type": "execute_result"
    }
   ],
   "execution_count": 38
  },
  {
   "metadata": {},
   "cell_type": "markdown",
   "source": "### Transposition",
   "id": "6d8fdd65e3bf0364"
  },
  {
   "metadata": {
    "ExecuteTime": {
     "end_time": "2025-05-07T06:32:32.705138Z",
     "start_time": "2025-05-07T06:32:32.697377Z"
    }
   },
   "cell_type": "code",
   "source": [
    "arr9 = np.triu(np.ones((3,3)), 1)\n",
    "arr9"
   ],
   "id": "5c5ed90db3bc1894",
   "outputs": [
    {
     "data": {
      "text/plain": [
       "array([[0., 1., 1.],\n",
       "       [0., 0., 1.],\n",
       "       [0., 0., 0.]])"
      ]
     },
     "execution_count": 40,
     "metadata": {},
     "output_type": "execute_result"
    }
   ],
   "execution_count": 40
  },
  {
   "metadata": {
    "ExecuteTime": {
     "end_time": "2025-05-07T06:32:45.009920Z",
     "start_time": "2025-05-07T06:32:45.002109Z"
    }
   },
   "cell_type": "code",
   "source": "arr9.T",
   "id": "ca51a7a80adfacaa",
   "outputs": [
    {
     "data": {
      "text/plain": [
       "array([[0., 0., 0.],\n",
       "       [1., 0., 0.],\n",
       "       [1., 1., 0.]])"
      ]
     },
     "execution_count": 41,
     "metadata": {},
     "output_type": "execute_result"
    }
   ],
   "execution_count": 41
  },
  {
   "metadata": {
    "ExecuteTime": {
     "end_time": "2025-05-07T06:33:35.691985Z",
     "start_time": "2025-05-07T06:33:35.684094Z"
    }
   },
   "cell_type": "code",
   "source": [
    "arr10 = np.arange(9).reshape(3,3)\n",
    "arr10"
   ],
   "id": "ac777020513f0d79",
   "outputs": [
    {
     "data": {
      "text/plain": [
       "array([[0, 1, 2],\n",
       "       [3, 4, 5],\n",
       "       [6, 7, 8]])"
      ]
     },
     "execution_count": 42,
     "metadata": {},
     "output_type": "execute_result"
    }
   ],
   "execution_count": 42
  },
  {
   "metadata": {
    "ExecuteTime": {
     "end_time": "2025-05-07T06:34:09.982711Z",
     "start_time": "2025-05-07T06:34:09.974897Z"
    }
   },
   "cell_type": "code",
   "source": [
    "arr10.T[0,2] = 999\n",
    "arr10.T"
   ],
   "id": "e951650dd3719012",
   "outputs": [
    {
     "data": {
      "text/plain": [
       "array([[  0,   3, 999],\n",
       "       [  1,   4,   7],\n",
       "       [  2,   5,   8]])"
      ]
     },
     "execution_count": 44,
     "metadata": {},
     "output_type": "execute_result"
    }
   ],
   "execution_count": 44
  },
  {
   "metadata": {
    "ExecuteTime": {
     "end_time": "2025-05-07T06:34:22.885060Z",
     "start_time": "2025-05-07T06:34:22.877582Z"
    }
   },
   "cell_type": "code",
   "source": "arr10",
   "id": "43018c3f0aeaa183",
   "outputs": [
    {
     "data": {
      "text/plain": [
       "array([[  0,   1,   2],\n",
       "       [  3,   4,   5],\n",
       "       [999,   7,   8]])"
      ]
     },
     "execution_count": 45,
     "metadata": {},
     "output_type": "execute_result"
    }
   ],
   "execution_count": 45
  },
  {
   "metadata": {},
   "cell_type": "markdown",
   "source": "## Basic reductions",
   "id": "dd6fe51df5b00917"
  },
  {
   "metadata": {
    "ExecuteTime": {
     "end_time": "2025-05-07T06:35:52.698958Z",
     "start_time": "2025-05-07T06:35:52.691053Z"
    }
   },
   "cell_type": "code",
   "source": [
    "tmp = np.array([1,2,3,4])\n",
    "np.sum(tmp)"
   ],
   "id": "16b542b92e2fa552",
   "outputs": [
    {
     "data": {
      "text/plain": [
       "np.int64(10)"
      ]
     },
     "execution_count": 46,
     "metadata": {},
     "output_type": "execute_result"
    }
   ],
   "execution_count": 46
  },
  {
   "metadata": {
    "ExecuteTime": {
     "end_time": "2025-05-07T06:36:20.225808Z",
     "start_time": "2025-05-07T06:36:20.217949Z"
    }
   },
   "cell_type": "code",
   "source": [
    "tmp = np.array([[1,1], [2,2]])\n",
    "tmp"
   ],
   "id": "2affca37d84b8b19",
   "outputs": [
    {
     "data": {
      "text/plain": [
       "array([[1, 1],\n",
       "       [2, 2]])"
      ]
     },
     "execution_count": 47,
     "metadata": {},
     "output_type": "execute_result"
    }
   ],
   "execution_count": 47
  },
  {
   "metadata": {
    "ExecuteTime": {
     "end_time": "2025-05-07T06:36:38.710066Z",
     "start_time": "2025-05-07T06:36:38.702558Z"
    }
   },
   "cell_type": "code",
   "source": "tmp.sum(axis=0)",
   "id": "561116884b6c5f01",
   "outputs": [
    {
     "data": {
      "text/plain": [
       "array([3, 3])"
      ]
     },
     "execution_count": 48,
     "metadata": {},
     "output_type": "execute_result"
    }
   ],
   "execution_count": 48
  },
  {
   "metadata": {
    "ExecuteTime": {
     "end_time": "2025-05-07T06:37:19.792054Z",
     "start_time": "2025-05-07T06:37:19.783916Z"
    }
   },
   "cell_type": "code",
   "source": "tmp.sum(axis=1)",
   "id": "d4b00d4c52f2fa68",
   "outputs": [
    {
     "data": {
      "text/plain": [
       "array([2, 4])"
      ]
     },
     "execution_count": 49,
     "metadata": {},
     "output_type": "execute_result"
    }
   ],
   "execution_count": 49
  },
  {
   "metadata": {
    "ExecuteTime": {
     "end_time": "2025-05-07T06:37:59.861831Z",
     "start_time": "2025-05-07T06:37:59.854507Z"
    }
   },
   "cell_type": "code",
   "source": [
    "tmp = np.array([1,3,2])\n",
    "tmp.min()"
   ],
   "id": "769d7f6904fcbd75",
   "outputs": [
    {
     "data": {
      "text/plain": [
       "np.int64(1)"
      ]
     },
     "execution_count": 50,
     "metadata": {},
     "output_type": "execute_result"
    }
   ],
   "execution_count": 50
  },
  {
   "metadata": {
    "ExecuteTime": {
     "end_time": "2025-05-07T06:38:10.814824Z",
     "start_time": "2025-05-07T06:38:10.807593Z"
    }
   },
   "cell_type": "code",
   "source": "tmp.max()",
   "id": "13aa34bbfb9b5f4a",
   "outputs": [
    {
     "data": {
      "text/plain": [
       "np.int64(3)"
      ]
     },
     "execution_count": 51,
     "metadata": {},
     "output_type": "execute_result"
    }
   ],
   "execution_count": 51
  },
  {
   "metadata": {
    "ExecuteTime": {
     "end_time": "2025-05-07T06:38:25.446507Z",
     "start_time": "2025-05-07T06:38:25.438694Z"
    }
   },
   "cell_type": "code",
   "source": "tmp.argmin()",
   "id": "2d414032243d1ed7",
   "outputs": [
    {
     "data": {
      "text/plain": [
       "np.int64(0)"
      ]
     },
     "execution_count": 52,
     "metadata": {},
     "output_type": "execute_result"
    }
   ],
   "execution_count": 52
  },
  {
   "metadata": {
    "ExecuteTime": {
     "end_time": "2025-05-07T06:38:38.380840Z",
     "start_time": "2025-05-07T06:38:38.373397Z"
    }
   },
   "cell_type": "code",
   "source": "tmp.argmax()",
   "id": "54935da0cda3449a",
   "outputs": [
    {
     "data": {
      "text/plain": [
       "np.int64(1)"
      ]
     },
     "execution_count": 53,
     "metadata": {},
     "output_type": "execute_result"
    }
   ],
   "execution_count": 53
  },
  {
   "metadata": {
    "ExecuteTime": {
     "end_time": "2025-05-07T06:39:17.937876Z",
     "start_time": "2025-05-07T06:39:17.929451Z"
    }
   },
   "cell_type": "code",
   "source": "np.all([True, True, False])",
   "id": "49dc9aba658ec15d",
   "outputs": [
    {
     "data": {
      "text/plain": [
       "np.False_"
      ]
     },
     "execution_count": 54,
     "metadata": {},
     "output_type": "execute_result"
    }
   ],
   "execution_count": 54
  },
  {
   "metadata": {
    "ExecuteTime": {
     "end_time": "2025-05-07T06:39:30.753987Z",
     "start_time": "2025-05-07T06:39:30.746263Z"
    }
   },
   "cell_type": "code",
   "source": "np.any([True, True, False])",
   "id": "e14b656670962c62",
   "outputs": [
    {
     "data": {
      "text/plain": [
       "np.True_"
      ]
     },
     "execution_count": 55,
     "metadata": {},
     "output_type": "execute_result"
    }
   ],
   "execution_count": 55
  },
  {
   "metadata": {
    "ExecuteTime": {
     "end_time": "2025-05-07T06:40:11.728178Z",
     "start_time": "2025-05-07T06:40:11.720517Z"
    }
   },
   "cell_type": "code",
   "source": [
    "tmp = np.zeros((100,100))\n",
    "np.any(a != 0)"
   ],
   "id": "83ddc10136dfda90",
   "outputs": [
    {
     "data": {
      "text/plain": [
       "np.True_"
      ]
     },
     "execution_count": 56,
     "metadata": {},
     "output_type": "execute_result"
    }
   ],
   "execution_count": 56
  },
  {
   "metadata": {
    "ExecuteTime": {
     "end_time": "2025-05-07T06:41:25.736606Z",
     "start_time": "2025-05-07T06:41:25.728408Z"
    }
   },
   "cell_type": "code",
   "source": [
    "tmp1 = np.array([1,2,3,1])\n",
    "tmp2 = np.array([[1,2,3], [5,6,1]])\n",
    "tmp1.mean()"
   ],
   "id": "cd5afe77145efbdb",
   "outputs": [
    {
     "data": {
      "text/plain": [
       "np.float64(1.75)"
      ]
     },
     "execution_count": 57,
     "metadata": {},
     "output_type": "execute_result"
    }
   ],
   "execution_count": 57
  },
  {
   "metadata": {
    "ExecuteTime": {
     "end_time": "2025-05-07T06:41:59.838310Z",
     "start_time": "2025-05-07T06:41:59.830447Z"
    }
   },
   "cell_type": "code",
   "source": "np.median(tmp1)",
   "id": "2f1e5dc7b5ef297e",
   "outputs": [
    {
     "data": {
      "text/plain": [
       "np.float64(1.5)"
      ]
     },
     "execution_count": 59,
     "metadata": {},
     "output_type": "execute_result"
    }
   ],
   "execution_count": 59
  },
  {
   "metadata": {
    "ExecuteTime": {
     "end_time": "2025-05-07T06:42:22.185822Z",
     "start_time": "2025-05-07T06:42:22.178680Z"
    }
   },
   "cell_type": "code",
   "source": "tmp1.std()",
   "id": "885b6c4d8f893579",
   "outputs": [
    {
     "data": {
      "text/plain": [
       "np.float64(0.82915619758885)"
      ]
     },
     "execution_count": 60,
     "metadata": {},
     "output_type": "execute_result"
    }
   ],
   "execution_count": 60
  }
 ],
 "metadata": {
  "kernelspec": {
   "display_name": "Python 3",
   "language": "python",
   "name": "python3"
  },
  "language_info": {
   "codemirror_mode": {
    "name": "ipython",
    "version": 2
   },
   "file_extension": ".py",
   "mimetype": "text/x-python",
   "name": "python",
   "nbconvert_exporter": "python",
   "pygments_lexer": "ipython2",
   "version": "2.7.6"
  }
 },
 "nbformat": 4,
 "nbformat_minor": 5
}
