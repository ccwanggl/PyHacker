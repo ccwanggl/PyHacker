{
 "cells": [
  {
   "metadata": {},
   "cell_type": "markdown",
   "source": "python 中的布尔其实是整数，可以当作整数使用",
   "id": "1745d34a2b9c37af"
  },
  {
   "metadata": {
    "ExecuteTime": {
     "end_time": "2025-02-08T01:38:27.246238Z",
     "start_time": "2025-02-08T01:38:27.238350Z"
    }
   },
   "cell_type": "code",
   "source": [
    "numbers = [1, 2, 3, 4, 5, 6, 7, 8, 9, 10]\n",
    "\n",
    "count = 0\n",
    "for i in numbers:\n",
    "    if i % 2 == 0:\n",
    "        count += 1\n",
    "\n",
    "print(count)"
   ],
   "id": "a0c7de1d9b5d343f",
   "outputs": [
    {
     "name": "stdout",
     "output_type": "stream",
     "text": [
      "5\n"
     ]
    }
   ],
   "execution_count": 1
  },
  {
   "metadata": {
    "ExecuteTime": {
     "end_time": "2025-02-08T01:39:05.923189Z",
     "start_time": "2025-02-08T01:39:05.918134Z"
    }
   },
   "cell_type": "code",
   "source": [
    "count  =  sum(i % 2 == 0 for i in numbers)\n",
    "print(count)"
   ],
   "id": "3c8e40078f653914",
   "outputs": [
    {
     "name": "stdout",
     "output_type": "stream",
     "text": [
      "5\n"
     ]
    }
   ],
   "execution_count": 2
  },
  {
   "metadata": {},
   "cell_type": "markdown",
   "source": "# 字符串常用操作",
   "id": "297a61d847668e5b"
  },
  {
   "metadata": {
    "ExecuteTime": {
     "end_time": "2025-02-08T01:41:08.732246Z",
     "start_time": "2025-02-08T01:41:08.726684Z"
    }
   },
   "cell_type": "code",
   "source": [
    "# 字符串当序列来操作\n",
    "s = 'Hello, world'\n",
    "for c in s:\n",
    "    print(c)"
   ],
   "id": "8d813f3bd53024ce",
   "outputs": [
    {
     "name": "stdout",
     "output_type": "stream",
     "text": [
      "H\n",
      "e\n",
      "l\n",
      "l\n",
      "o\n",
      ",\n",
      " \n",
      "w\n",
      "o\n",
      "r\n",
      "l\n",
      "d\n"
     ]
    }
   ],
   "execution_count": 3
  },
  {
   "metadata": {
    "ExecuteTime": {
     "end_time": "2025-02-08T01:41:40.515815Z",
     "start_time": "2025-02-08T01:41:40.504967Z"
    }
   },
   "cell_type": "code",
   "source": "s[::-1]",
   "id": "64ddce7c1f8b8998",
   "outputs": [
    {
     "data": {
      "text/plain": [
       "'dlrow ,olleH'"
      ]
     },
     "execution_count": 4,
     "metadata": {},
     "output_type": "execute_result"
    }
   ],
   "execution_count": 4
  },
  {
   "metadata": {
    "ExecuteTime": {
     "end_time": "2025-02-08T01:42:11.488571Z",
     "start_time": "2025-02-08T01:42:11.482201Z"
    }
   },
   "cell_type": "code",
   "source": "''.join(reversed(s))",
   "id": "231d951327b7d985",
   "outputs": [
    {
     "data": {
      "text/plain": [
       "'dlrow ,olleH'"
      ]
     },
     "execution_count": 5,
     "metadata": {},
     "output_type": "execute_result"
    }
   ],
   "execution_count": 5
  },
  {
   "metadata": {},
   "cell_type": "markdown",
   "source": [
    "## 字符串格式化\n",
    "至少有三种方法：\n",
    "- C 语言风格\n",
    "- str.format\n",
    "- f-string"
   ],
   "id": "73b79969b35bef47"
  },
  {
   "metadata": {
    "ExecuteTime": {
     "end_time": "2025-02-08T01:48:34.737207Z",
     "start_time": "2025-02-08T01:48:34.730716Z"
    }
   },
   "cell_type": "code",
   "source": [
    "username, score = 'piglei', 100\n",
    "\n",
    "print('Welcome %s, your score is %d' % (username, score))\n",
    "print('Welcome {}, your score is {}'.format(username, score))\n",
    "print(f'Welcome {username}, your score is {score:d}')\n",
    "\n",
    "print('{:>20}'.format(username))\n",
    "print(f'{username:>20}')\n",
    "\n",
    "print('{0}: name={0} score={1}'.format(username, score))"
   ],
   "id": "bc99ac542410765e",
   "outputs": [
    {
     "name": "stdout",
     "output_type": "stream",
     "text": [
      "Welcome piglei, your score is 100\n",
      "Welcome piglei, your score is 100\n",
      "Welcome piglei, your score is 100\n",
      "              piglei\n",
      "              piglei\n",
      "piglei: name=piglei score=100\n"
     ]
    }
   ],
   "execution_count": 8
  }
 ],
 "metadata": {
  "kernelspec": {
   "display_name": "Python 3",
   "language": "python",
   "name": "python3"
  },
  "language_info": {
   "codemirror_mode": {
    "name": "ipython",
    "version": 2
   },
   "file_extension": ".py",
   "mimetype": "text/x-python",
   "name": "python",
   "nbconvert_exporter": "python",
   "pygments_lexer": "ipython2",
   "version": "2.7.6"
  }
 },
 "nbformat": 4,
 "nbformat_minor": 5
}
